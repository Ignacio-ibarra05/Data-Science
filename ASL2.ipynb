{
 "cells": [
  {
   "cell_type": "markdown",
   "metadata": {},
   "source": [
    "GPU:"
   ]
  },
  {
   "cell_type": "code",
   "execution_count": 15,
   "metadata": {},
   "outputs": [
    {
     "name": "stdout",
     "output_type": "stream",
     "text": [
      "CUDA available: True\n",
      "Using device: cuda\n",
      "Nombre de la tarjeta gráfica: NVIDIA GeForce RTX 3070\n",
      "Memoria total de la tarjeta gráfica: 8.59 GB\n",
      "Memoria disponible antes del entrenamiento: 0.07 GB\n",
      "Memoria asignada antes del entrenamiento: 0.03 GB\n"
     ]
    }
   ],
   "source": [
    "import torch\n",
    "import torch.nn as nn\n",
    "import torch.optim as optim\n",
    "from torch.utils.data import DataLoader\n",
    "from torchvision import datasets, transforms\n",
    "import matplotlib.pyplot as plt\n",
    "import numpy as np\n",
    "from tqdm import tqdm\n",
    "\n",
    "# Verificar si CUDA está disponible y usar GPU si está disponible\n",
    "device = torch.device(\"cuda\" if torch.cuda.is_available() else \"cpu\")\n",
    "print(\"CUDA available:\", torch.cuda.is_available())\n",
    "print(\"Using device:\", device)\n",
    "\n",
    "if torch.cuda.is_available():\n",
    "    print(\"Nombre de la tarjeta gráfica:\", torch.cuda.get_device_name(0))\n",
    "    print(\"Memoria total de la tarjeta gráfica: {:.2f} GB\".format(torch.cuda.get_device_properties(0).total_memory / 1e9))\n",
    "    print(\"Memoria disponible antes del entrenamiento: {:.2f} GB\".format(torch.cuda.memory_reserved(0) / 1e9))\n",
    "    print(\"Memoria asignada antes del entrenamiento: {:.2f} GB\".format(torch.cuda.memory_allocated(0) / 1e9))\n"
   ]
  },
  {
   "cell_type": "markdown",
   "metadata": {},
   "source": [
    "Transformaciones:"
   ]
  },
  {
   "cell_type": "code",
   "execution_count": 16,
   "metadata": {},
   "outputs": [],
   "source": [
    "# Definir transformaciones para el conjunto de datos\n",
    "transform = transforms.Compose([\n",
    "    transforms.Resize((28, 28)),\n",
    "    transforms.ToTensor(),\n",
    "    transforms.Normalize((0.5,), (0.5,))\n",
    "])\n",
    "\n",
    "# Definir el mapeo explícito de clases\n",
    "class_to_idx = {\n",
    "    'A': 0, 'B': 1, 'C': 2, 'D': 3, 'E': 4, 'F': 5, 'G': 6, 'H': 7,\n",
    "    'I': 8, 'J': 9, 'K': 10, 'L': 11, 'M': 12, 'N': 13, 'O': 14, 'P': 15,\n",
    "    'Q': 16, 'R': 17, 'S': 18, 'T': 19, 'U': 20, 'V': 21, 'W': 22, 'X': 23,\n",
    "    'Y': 24, 'Z': 25, 'del': 26, 'nothing': 27, 'space': 28\n",
    "}\n",
    "\n",
    "# Cargar conjuntos de datos\n",
    "train_dataset = datasets.ImageFolder(root='datasets/ASL_Alphabet_Dataset/asl_alphabet_train', transform=transform)\n",
    "train_dataset.class_to_idx = class_to_idx\n",
    "train_loader = DataLoader(train_dataset, batch_size=64, shuffle=True, num_workers=4)\n",
    "\n",
    "test_dataset = datasets.ImageFolder(root='datasets/test', transform=transform)\n",
    "test_dataset.class_to_idx = class_to_idx\n",
    "test_loader = DataLoader(test_dataset, batch_size=64, shuffle=False, num_workers=4)\n"
   ]
  },
  {
   "cell_type": "markdown",
   "metadata": {},
   "source": [
    "Definir el modelo:"
   ]
  },
  {
   "cell_type": "code",
   "execution_count": 17,
   "metadata": {},
   "outputs": [],
   "source": [
    "# Definir el modelo\n",
    "class CNN(nn.Module):\n",
    "    def __init__(self):\n",
    "        super(CNN, self).__init__()\n",
    "        self.conv1 = nn.Conv2d(3, 32, kernel_size=3, stride=1, padding=1)\n",
    "        self.pool = nn.MaxPool2d(kernel_size=2, stride=2, padding=0)\n",
    "        self.conv2 = nn.Conv2d(32, 64, kernel_size=3, stride=1, padding=1)\n",
    "        self.fc1 = nn.Linear(64 * 7 * 7, 128)\n",
    "        self.dropout = nn.Dropout(0.25)\n",
    "        self.fc2 = nn.Linear(128, 29)\n",
    "    \n",
    "    def forward(self, x):\n",
    "        x = self.pool(torch.relu(self.conv1(x)))\n",
    "        x = self.pool(torch.relu(self.conv2(x)))\n",
    "        x = x.view(-1, 64 * 7 * 7)\n",
    "        x = torch.relu(self.fc1(x))\n",
    "        x = self.dropout(x)\n",
    "        x = self.fc2(x)\n",
    "        return x\n",
    "\n",
    "model = CNN().to(device)"
   ]
  },
  {
   "cell_type": "markdown",
   "metadata": {},
   "source": [
    "Perdida y el optimizaador"
   ]
  },
  {
   "cell_type": "code",
   "execution_count": 18,
   "metadata": {},
   "outputs": [],
   "source": [
    "# Definir la función de pérdida y el optimizador\n",
    "criterion = nn.CrossEntropyLoss()\n",
    "optimizer = optim.Adam(model.parameters(), lr=0.001)"
   ]
  },
  {
   "cell_type": "markdown",
   "metadata": {},
   "source": [
    "Función de entrenamiento"
   ]
  },
  {
   "cell_type": "code",
   "execution_count": 19,
   "metadata": {},
   "outputs": [],
   "source": [
    "# Función de entrenamiento\n",
    "def train_model(model, train_loader, criterion, optimizer, num_epochs=20):\n",
    "    model.train()\n",
    "    for epoch in range(num_epochs):\n",
    "        running_loss = 0.0\n",
    "        with tqdm(total=len(train_loader), desc=f\"Epoch {epoch+1}/{num_epochs}\", unit=\"batch\") as pbar:\n",
    "            for inputs, labels in train_loader:\n",
    "                inputs, labels = inputs.to(device), labels.to(device)\n",
    "                \n",
    "                # Poner a cero los gradientes del optimizador\n",
    "                optimizer.zero_grad()\n",
    "                \n",
    "                # Forward + backward + optimize\n",
    "                outputs = model(inputs)\n",
    "                loss = criterion(outputs, labels)\n",
    "                loss.backward()\n",
    "                optimizer.step()\n",
    "                \n",
    "                # Actualizar estadísticas\n",
    "                running_loss += loss.item()\n",
    "                pbar.set_postfix({\"loss\": loss.item()})\n",
    "                pbar.update(1)\n",
    "        \n",
    "        epoch_loss = running_loss / len(train_loader)\n",
    "        print(f\"Epoch [{epoch + 1}/{num_epochs}], Loss: {epoch_loss:.4f}\")\n",
    "        if torch.cuda.is_available():\n",
    "            print(\"Memoria asignada durante el entrenamiento: {:.2f} GB\".format(torch.cuda.memory_allocated(0) / 1e9))\n",
    "            print(\"Memoria reservada durante el entrenamiento: {:.2f} GB\".format(torch.cuda.memory_reserved(0) / 1e9))\n",
    "            torch.cuda.empty_cache()  # Liberar memoria no utilizada"
   ]
  },
  {
   "cell_type": "markdown",
   "metadata": {},
   "source": [
    "Función de evaluación"
   ]
  },
  {
   "cell_type": "code",
   "execution_count": 20,
   "metadata": {},
   "outputs": [],
   "source": [
    "# Evaluar el modelo\n",
    "def evaluate_model(model, test_loader):\n",
    "    model.eval()\n",
    "    correct = 0\n",
    "    total = 0\n",
    "    with torch.no_grad():\n",
    "        for inputs, labels in test_loader:\n",
    "            inputs, labels = inputs.to(device), labels.to(device)\n",
    "            outputs = model(inputs)\n",
    "            _, predicted = torch.max(outputs.data, 1)\n",
    "            total += labels.size(0)\n",
    "            correct += (predicted == labels).sum().item()\n",
    "    print(f\"Accuracy: {100 * correct / total:.2f}%\")"
   ]
  },
  {
   "cell_type": "markdown",
   "metadata": {},
   "source": [
    "MAIN:"
   ]
  },
  {
   "cell_type": "code",
   "execution_count": 21,
   "metadata": {},
   "outputs": [
    {
     "name": "stderr",
     "output_type": "stream",
     "text": [
      "Epoch 1/15: 100%|██████████| 3379/3379 [09:13<00:00,  6.11batch/s, loss=0.238]\n"
     ]
    },
    {
     "name": "stdout",
     "output_type": "stream",
     "text": [
      "Epoch [1/15], Loss: 0.9074\n",
      "Memoria asignada durante el entrenamiento: 0.03 GB\n",
      "Memoria reservada durante el entrenamiento: 0.07 GB\n"
     ]
    },
    {
     "name": "stderr",
     "output_type": "stream",
     "text": [
      "Epoch 2/15: 100%|██████████| 3379/3379 [02:21<00:00, 23.82batch/s, loss=0.316] \n"
     ]
    },
    {
     "name": "stdout",
     "output_type": "stream",
     "text": [
      "Epoch [2/15], Loss: 0.3158\n",
      "Memoria asignada durante el entrenamiento: 0.03 GB\n",
      "Memoria reservada durante el entrenamiento: 0.07 GB\n"
     ]
    },
    {
     "name": "stderr",
     "output_type": "stream",
     "text": [
      "Epoch 3/15: 100%|██████████| 3379/3379 [02:20<00:00, 24.12batch/s, loss=0.169] \n"
     ]
    },
    {
     "name": "stdout",
     "output_type": "stream",
     "text": [
      "Epoch [3/15], Loss: 0.2158\n",
      "Memoria asignada durante el entrenamiento: 0.03 GB\n",
      "Memoria reservada durante el entrenamiento: 0.07 GB\n"
     ]
    },
    {
     "name": "stderr",
     "output_type": "stream",
     "text": [
      "Epoch 4/15: 100%|██████████| 3379/3379 [02:20<00:00, 24.05batch/s, loss=0.144] \n"
     ]
    },
    {
     "name": "stdout",
     "output_type": "stream",
     "text": [
      "Epoch [4/15], Loss: 0.1679\n",
      "Memoria asignada durante el entrenamiento: 0.03 GB\n",
      "Memoria reservada durante el entrenamiento: 0.07 GB\n"
     ]
    },
    {
     "name": "stderr",
     "output_type": "stream",
     "text": [
      "Epoch 5/15: 100%|██████████| 3379/3379 [02:19<00:00, 24.31batch/s, loss=0.108]  \n"
     ]
    },
    {
     "name": "stdout",
     "output_type": "stream",
     "text": [
      "Epoch [5/15], Loss: 0.1395\n",
      "Memoria asignada durante el entrenamiento: 0.03 GB\n",
      "Memoria reservada durante el entrenamiento: 0.07 GB\n"
     ]
    },
    {
     "name": "stderr",
     "output_type": "stream",
     "text": [
      "Epoch 6/15: 100%|██████████| 3379/3379 [02:18<00:00, 24.42batch/s, loss=0.0207] \n"
     ]
    },
    {
     "name": "stdout",
     "output_type": "stream",
     "text": [
      "Epoch [6/15], Loss: 0.1195\n",
      "Memoria asignada durante el entrenamiento: 0.03 GB\n",
      "Memoria reservada durante el entrenamiento: 0.07 GB\n"
     ]
    },
    {
     "name": "stderr",
     "output_type": "stream",
     "text": [
      "Epoch 7/15: 100%|██████████| 3379/3379 [02:19<00:00, 24.15batch/s, loss=0.0483] \n"
     ]
    },
    {
     "name": "stdout",
     "output_type": "stream",
     "text": [
      "Epoch [7/15], Loss: 0.1075\n",
      "Memoria asignada durante el entrenamiento: 0.03 GB\n",
      "Memoria reservada durante el entrenamiento: 0.07 GB\n"
     ]
    },
    {
     "name": "stderr",
     "output_type": "stream",
     "text": [
      "Epoch 8/15: 100%|██████████| 3379/3379 [02:23<00:00, 23.62batch/s, loss=0.173]   \n"
     ]
    },
    {
     "name": "stdout",
     "output_type": "stream",
     "text": [
      "Epoch [8/15], Loss: 0.0957\n",
      "Memoria asignada durante el entrenamiento: 0.03 GB\n",
      "Memoria reservada durante el entrenamiento: 0.07 GB\n"
     ]
    },
    {
     "name": "stderr",
     "output_type": "stream",
     "text": [
      "Epoch 9/15: 100%|██████████| 3379/3379 [02:18<00:00, 24.31batch/s, loss=0.173]  \n"
     ]
    },
    {
     "name": "stdout",
     "output_type": "stream",
     "text": [
      "Epoch [9/15], Loss: 0.0895\n",
      "Memoria asignada durante el entrenamiento: 0.03 GB\n",
      "Memoria reservada durante el entrenamiento: 0.07 GB\n"
     ]
    },
    {
     "name": "stderr",
     "output_type": "stream",
     "text": [
      "Epoch 10/15: 100%|██████████| 3379/3379 [02:17<00:00, 24.51batch/s, loss=0.101]   \n"
     ]
    },
    {
     "name": "stdout",
     "output_type": "stream",
     "text": [
      "Epoch [10/15], Loss: 0.0822\n",
      "Memoria asignada durante el entrenamiento: 0.03 GB\n",
      "Memoria reservada durante el entrenamiento: 0.07 GB\n"
     ]
    },
    {
     "name": "stderr",
     "output_type": "stream",
     "text": [
      "Epoch 11/15: 100%|██████████| 3379/3379 [02:19<00:00, 24.21batch/s, loss=0.037]   \n"
     ]
    },
    {
     "name": "stdout",
     "output_type": "stream",
     "text": [
      "Epoch [11/15], Loss: 0.0754\n",
      "Memoria asignada durante el entrenamiento: 0.03 GB\n",
      "Memoria reservada durante el entrenamiento: 0.07 GB\n"
     ]
    },
    {
     "name": "stderr",
     "output_type": "stream",
     "text": [
      "Epoch 12/15: 100%|██████████| 3379/3379 [02:19<00:00, 24.20batch/s, loss=0.159]   \n"
     ]
    },
    {
     "name": "stdout",
     "output_type": "stream",
     "text": [
      "Epoch [12/15], Loss: 0.0710\n",
      "Memoria asignada durante el entrenamiento: 0.03 GB\n",
      "Memoria reservada durante el entrenamiento: 0.07 GB\n"
     ]
    },
    {
     "name": "stderr",
     "output_type": "stream",
     "text": [
      "Epoch 13/15: 100%|██████████| 3379/3379 [02:19<00:00, 24.28batch/s, loss=0.0664]  \n"
     ]
    },
    {
     "name": "stdout",
     "output_type": "stream",
     "text": [
      "Epoch [13/15], Loss: 0.0673\n",
      "Memoria asignada durante el entrenamiento: 0.03 GB\n",
      "Memoria reservada durante el entrenamiento: 0.07 GB\n"
     ]
    },
    {
     "name": "stderr",
     "output_type": "stream",
     "text": [
      "Epoch 14/15: 100%|██████████| 3379/3379 [02:18<00:00, 24.41batch/s, loss=0.00443] \n"
     ]
    },
    {
     "name": "stdout",
     "output_type": "stream",
     "text": [
      "Epoch [14/15], Loss: 0.0640\n",
      "Memoria asignada durante el entrenamiento: 0.03 GB\n",
      "Memoria reservada durante el entrenamiento: 0.07 GB\n"
     ]
    },
    {
     "name": "stderr",
     "output_type": "stream",
     "text": [
      "Epoch 15/15: 100%|██████████| 3379/3379 [02:18<00:00, 24.41batch/s, loss=0.00446] \n"
     ]
    },
    {
     "name": "stdout",
     "output_type": "stream",
     "text": [
      "Epoch [15/15], Loss: 0.0596\n",
      "Memoria asignada durante el entrenamiento: 0.03 GB\n",
      "Memoria reservada durante el entrenamiento: 0.07 GB\n",
      "Accuracy: 4.76%\n",
      "|===========================================================================|\n",
      "|                  PyTorch CUDA memory summary, device ID 0                 |\n",
      "|---------------------------------------------------------------------------|\n",
      "|            CUDA OOMs: 0            |        cudaMalloc retries: 0         |\n",
      "|===========================================================================|\n",
      "|        Metric         | Cur Usage  | Peak Usage | Tot Alloc  | Tot Freed  |\n",
      "|---------------------------------------------------------------------------|\n",
      "| Allocated memory      |  31316 KiB |  53405 KiB |   3079 GiB |   3079 GiB |\n",
      "|       from large pool |  29984 KiB |  51480 KiB |   2954 GiB |   2954 GiB |\n",
      "|       from small pool |   1332 KiB |   3453 KiB |    125 GiB |    125 GiB |\n",
      "|---------------------------------------------------------------------------|\n",
      "| Active memory         |  31316 KiB |  53405 KiB |   3079 GiB |   3079 GiB |\n",
      "|       from large pool |  29984 KiB |  51480 KiB |   2954 GiB |   2954 GiB |\n",
      "|       from small pool |   1332 KiB |   3453 KiB |    125 GiB |    125 GiB |\n",
      "|---------------------------------------------------------------------------|\n",
      "| Requested memory      |  30506 KiB |  52595 KiB |   3079 GiB |   3079 GiB |\n",
      "|       from large pool |  29184 KiB |  50680 KiB |   2954 GiB |   2954 GiB |\n",
      "|       from small pool |   1322 KiB |   3442 KiB |    125 GiB |    125 GiB |\n",
      "|---------------------------------------------------------------------------|\n",
      "| GPU reserved memory   |  65536 KiB |  65536 KiB |  96256 KiB |  30720 KiB |\n",
      "|       from large pool |  61440 KiB |  61440 KiB |  61440 KiB |      0 KiB |\n",
      "|       from small pool |   4096 KiB |   4096 KiB |  34816 KiB |  30720 KiB |\n",
      "|---------------------------------------------------------------------------|\n",
      "| Non-releasable memory |  32171 KiB |  32868 KiB |   3870 GiB |   3870 GiB |\n",
      "|       from large pool |  31456 KiB |  31456 KiB |   3721 GiB |   3721 GiB |\n",
      "|       from small pool |    715 KiB |   2607 KiB |    148 GiB |    148 GiB |\n",
      "|---------------------------------------------------------------------------|\n",
      "| Allocations           |      70    |      82    |    2545 K  |    2545 K  |\n",
      "|       from large pool |      10    |      16    |     865 K  |     865 K  |\n",
      "|       from small pool |      60    |      71    |    1680 K  |    1680 K  |\n",
      "|---------------------------------------------------------------------------|\n",
      "| Active allocs         |      70    |      82    |    2545 K  |    2545 K  |\n",
      "|       from large pool |      10    |      16    |     865 K  |     865 K  |\n",
      "|       from small pool |      60    |      71    |    1680 K  |    1680 K  |\n",
      "|---------------------------------------------------------------------------|\n",
      "| GPU reserved segments |       5    |       5    |      20    |      15    |\n",
      "|       from large pool |       3    |       3    |       3    |       0    |\n",
      "|       from small pool |       2    |       2    |      17    |      15    |\n",
      "|---------------------------------------------------------------------------|\n",
      "| Non-releasable allocs |      10    |      14    |    1400 K  |    1400 K  |\n",
      "|       from large pool |       2    |       6    |     407 K  |     407 K  |\n",
      "|       from small pool |       8    |      13    |     992 K  |     992 K  |\n",
      "|---------------------------------------------------------------------------|\n",
      "| Oversize allocations  |       0    |       0    |       0    |       0    |\n",
      "|---------------------------------------------------------------------------|\n",
      "| Oversize GPU segments |       0    |       0    |       0    |       0    |\n",
      "|===========================================================================|\n",
      "\n"
     ]
    }
   ],
   "source": [
    "\n",
    "# Entrenar el modelo\n",
    "train_model(model, train_loader, criterion, optimizer, num_epochs=15)\n",
    "# Guardar el modelo entrenado\n",
    "torch.save(model.state_dict(), 'ASL2_language_model.pth')\n",
    "# Evaluar el modelo\n",
    "evaluate_model(model, test_loader)\n",
    "# Ver resumen de la memoria\n",
    "if torch.cuda.is_available():\n",
    "    print(torch.cuda.memory_summary(device=None, abbreviated=False))\n"
   ]
  },
  {
   "cell_type": "code",
   "execution_count": 24,
   "metadata": {},
   "outputs": [
    {
     "name": "stderr",
     "output_type": "stream",
     "text": [
      "Clipping input data to the valid range for imshow with RGB data ([0..1] for floats or [0..255] for integers). Got range [-0.9137255..1.0].\n"
     ]
    },
    {
     "name": "stdout",
     "output_type": "stream",
     "text": [
      "TEST ACCURACY = 92.85714285714286%\n"
     ]
    },
    {
     "data": {
      "image/png": "[encoded data removed]",
      "text/plain": [
       "<Figure size 640x480 with 1 Axes>"
      ]
     },
     "metadata": {},
     "output_type": "display_data"
    },
    {
     "name": "stderr",
     "output_type": "stream",
     "text": [
      "Clipping input data to the valid range for imshow with RGB data ([0..1] for floats or [0..255] for integers). Got range [-0.92941177..0.48235297].\n"
     ]
    },
    {
     "data": {
      "image/png": "[encoded data removed]",
      "text/plain": [
       "<Figure size 640x480 with 1 Axes>"
      ]
     },
     "metadata": {},
     "output_type": "display_data"
    },
    {
     "name": "stderr",
     "output_type": "stream",
     "text": [
      "Clipping input data to the valid range for imshow with RGB data ([0..1] for floats or [0..255] for integers). Got range [-0.92941177..0.5372549].\n"
     ]
    },
    {
     "data": {
      "image/png": "[encoded data removed]",
      "text/plain": [
       "<Figure size 640x480 with 1 Axes>"
      ]
     },
     "metadata": {},
     "output_type": "display_data"
    },
    {
     "name": "stderr",
     "output_type": "stream",
     "text": [
      "Clipping input data to the valid range for imshow with RGB data ([0..1] for floats or [0..255] for integers). Got range [-0.92941177..0.56078434].\n"
     ]
    },
    {
     "data": {
      "image/png": "[encoded data removed]",
      "text/plain": [
       "<Figure size 640x480 with 1 Axes>"
      ]
     },
     "metadata": {},
     "output_type": "display_data"
    },
    {
     "name": "stderr",
     "output_type": "stream",
     "text": [
      "Clipping input data to the valid range for imshow with RGB data ([0..1] for floats or [0..255] for integers). Got range [-0.9372549..0.5058824].\n"
     ]
    },
    {
     "data": {
      "image/png": "[encoded data removed]",
      "text/plain": [
       "<Figure size 640x480 with 1 Axes>"
      ]
     },
     "metadata": {},
     "output_type": "display_data"
    },
    {
     "name": "stderr",
     "output_type": "stream",
     "text": [
      "Clipping input data to the valid range for imshow with RGB data ([0..1] for floats or [0..255] for integers). Got range [-0.9529412..0.41960788].\n"
     ]
    },
    {
     "data": {
      "image/png": "[encoded data removed]",
      "text/plain": [
       "<Figure size 640x480 with 1 Axes>"
      ]
     },
     "metadata": {},
     "output_type": "display_data"
    },
    {
     "name": "stderr",
     "output_type": "stream",
     "text": [
      "Clipping input data to the valid range for imshow with RGB data ([0..1] for floats or [0..255] for integers). Got range [-0.9529412..0.36470592].\n"
     ]
    },
    {
     "data": {
      "image/png": "[encoded data removed]",
      "text/plain": [
       "<Figure size 640x480 with 1 Axes>"
      ]
     },
     "metadata": {},
     "output_type": "display_data"
    },
    {
     "name": "stderr",
     "output_type": "stream",
     "text": [
      "Clipping input data to the valid range for imshow with RGB data ([0..1] for floats or [0..255] for integers). Got range [-0.8901961..0.4901961].\n"
     ]
    },
    {
     "data": {
      "image/png": "[encoded data removed]",
      "text/plain": [
       "<Figure size 640x480 with 1 Axes>"
      ]
     },
     "metadata": {},
     "output_type": "display_data"
    },
    {
     "name": "stderr",
     "output_type": "stream",
     "text": [
      "Clipping input data to the valid range for imshow with RGB data ([0..1] for floats or [0..255] for integers). Got range [-0.827451..0.6].\n"
     ]
    },
    {
     "data": {
      "image/png": "[encoded data removed]",
      "text/plain": [
       "<Figure size 640x480 with 1 Axes>"
      ]
     },
     "metadata": {},
     "output_type": "display_data"
    },
    {
     "name": "stderr",
     "output_type": "stream",
     "text": [
      "Clipping input data to the valid range for imshow with RGB data ([0..1] for floats or [0..255] for integers). Got range [-0.8745098..0.54509807].\n"
     ]
    },
    {
     "data": {
      "image/png": "[encoded data removed]",
      "text/plain": [
       "<Figure size 640x480 with 1 Axes>"
      ]
     },
     "metadata": {},
     "output_type": "display_data"
    },
    {
     "name": "stderr",
     "output_type": "stream",
     "text": [
      "Clipping input data to the valid range for imshow with RGB data ([0..1] for floats or [0..255] for integers). Got range [-0.92156863..0.5529412].\n"
     ]
    },
    {
     "data": {
      "image/png": "[encoded data removed]",
      "text/plain": [
       "<Figure size 640x480 with 1 Axes>"
      ]
     },
     "metadata": {},
     "output_type": "display_data"
    }
   ],
   "source": [
    "import os\n",
    "import numpy as np\n",
    "import torch\n",
    "import torch.nn as nn\n",
    "from torchvision import transforms\n",
    "from PIL import Image\n",
    "import matplotlib.pyplot as plt\n",
    "\n",
    "# Definir transformaciones para las imágenes de prueba\n",
    "transform = transforms.Compose([\n",
    "    transforms.Resize((28, 28)),\n",
    "    transforms.ToTensor(),\n",
    "    transforms.Normalize((0.5, 0.5, 0.5), (0.5, 0.5, 0.5))\n",
    "])\n",
    "\n",
    "# Mapeo de nombres de archivos a etiquetas\n",
    "class_names = ['A', 'B', 'C', 'D', 'E', 'F', 'G', 'H', 'I', 'J', 'K', 'L', 'M', 'N', 'O', 'P', 'Q', 'R', 'S', 'T', 'U', 'V', 'W', 'X', 'Y', 'Z', 'del', 'nothing', 'space']\n",
    "\n",
    "# Directorio de imágenes de prueba\n",
    "test_dir = 'datasets/ASL_Alphabet_Dataset/asl_alphabet_test'\n",
    "\n",
    "# Definir el modelo original\n",
    "class CNN(nn.Module):\n",
    "    def __init__(self):\n",
    "        super(CNN, self).__init__()\n",
    "        self.conv1 = nn.Conv2d(3, 32, kernel_size=3, stride=1, padding=1)\n",
    "        self.pool = nn.MaxPool2d(kernel_size=2, stride=2, padding=0)\n",
    "        self.conv2 = nn.Conv2d(32, 64, kernel_size=3, stride=1, padding=1)\n",
    "        self.fc1 = nn.Linear(64 * 7 * 7, 128)\n",
    "        self.dropout = nn.Dropout(0.25)\n",
    "        self.fc2 = nn.Linear(128, 29)\n",
    "    \n",
    "    def forward(self, x):\n",
    "        x = self.pool(torch.relu(self.conv1(x)))\n",
    "        x = self.pool(torch.relu(self.conv2(x)))\n",
    "        x = x.view(-1, 64 * 7 * 7)\n",
    "        x = torch.relu(self.fc1(x))\n",
    "        x = self.dropout(x)\n",
    "        x = self.fc2(x)\n",
    "        return x\n",
    "\n",
    "# Cargar el modelo guardado\n",
    "model = CNN()\n",
    "model.load_state_dict(torch.load('ASL2_language_model.pth'))\n",
    "model.eval()\n",
    "\n",
    "# Procesar y cargar imágenes de prueba manualmente\n",
    "test_images = []\n",
    "test_labels = []\n",
    "\n",
    "for class_name in class_names:\n",
    "    image_path = os.path.join(test_dir, f\"{class_name}_test.jpg\")\n",
    "    if os.path.exists(image_path):\n",
    "        img = Image.open(image_path).convert('RGB')\n",
    "        img = transform(img)\n",
    "        test_images.append(img)\n",
    "        test_labels.append(class_names.index(class_name))\n",
    "\n",
    "# Convertir listas a tensores de PyTorch\n",
    "test_images = torch.stack(test_images)\n",
    "test_labels = torch.tensor(test_labels)\n",
    "\n",
    "# Convertir etiquetas a one-hot encoding con 29 clases\n",
    "test_labels_one_hot = torch.eye(29)[test_labels]\n",
    "\n",
    "# Evaluación del modelo en el conjunto de prueba\n",
    "with torch.no_grad():\n",
    "    outputs = model(test_images)\n",
    "    loss_fn = nn.CrossEntropyLoss()\n",
    "    loss = loss_fn(outputs, test_labels)\n",
    "    _, predicted = torch.max(outputs, 1)\n",
    "    accuracy = (predicted == test_labels).sum().item() / len(test_labels)\n",
    "\n",
    "print('TEST ACCURACY = {}%'.format(accuracy * 100))\n",
    "\n",
    "# Mostrar las imágenes con sus predicciones\n",
    "for i in range(len(test_images)):\n",
    "    plt.imshow(test_images[i].permute(1, 2, 0).numpy())\n",
    "    plt.title(f\"True: {class_names[test_labels[i]]}, Predicted: {class_names[predicted[i]]}\")\n",
    "    plt.axis('off')\n",
    "    plt.show()\n",
    "    if i == 10:  # Mostrar solo los primeros 10 resultados\n",
    "        break\n"
   ]
  },
  {
   "cell_type": "code",
   "execution_count": 14,
   "metadata": {},
   "outputs": [
    {
     "data": {
      "image/png": "[encoded data removed]",
      "text/plain": [
       "<Figure size 640x480 with 1 Axes>"
      ]
     },
     "metadata": {},
     "output_type": "display_data"
    }
   ],
   "source": [
    "import os\n",
    "import numpy as np\n",
    "import torch\n",
    "import torch.nn as nn\n",
    "from torchvision import transforms\n",
    "from PIL import Image\n",
    "import cv2\n",
    "import matplotlib.pyplot as plt\n",
    "\n",
    "# Definir el modelo\n",
    "class CNN(nn.Module):\n",
    "    def __init__(self):\n",
    "        super(CNN, self).__init__()\n",
    "        self.conv1 = nn.Conv2d(3, 32, kernel_size=3, stride=1, padding=1)\n",
    "        self.pool = nn.MaxPool2d(kernel_size=2, stride=2, padding=0)\n",
    "        self.conv2 = nn.Conv2d(32, 64, kernel_size=3, stride=1, padding=1)\n",
    "        self.fc1 = nn.Linear(64 * 7 * 7, 128)\n",
    "        self.dropout = nn.Dropout(0.25)\n",
    "        self.fc2 = nn.Linear(128, 29)\n",
    "    \n",
    "    def forward(self, x):\n",
    "        x = self.pool(torch.relu(self.conv1(x)))\n",
    "        x = self.pool(torch.relu(self.conv2(x)))\n",
    "        x = x.view(-1, 64 * 7 * 7)\n",
    "        x = torch.relu(self.fc1(x))\n",
    "        x = self.dropout(x)\n",
    "        x = self.fc2(x)\n",
    "        return x\n",
    "\n",
    "# Cargar el modelo guardado\n",
    "model = CNN()\n",
    "model.load_state_dict(torch.load('ASL2_language_model.pth'))\n",
    "model.eval()\n",
    "\n",
    "# Definir transformaciones para las imágenes de prueba\n",
    "transform = transforms.Compose([\n",
    "    transforms.Resize((28, 28)),\n",
    "    transforms.ToTensor(),\n",
    "    transforms.Normalize((0.5, 0.5, 0.5), (0.5, 0.5, 0.5))\n",
    "])\n",
    "\n",
    "# Mapeo de nombres de archivos a etiquetas\n",
    "class_names = ['A', 'B', 'C', 'D', 'E', 'F', 'G', 'H', 'I', 'J', 'K', 'L', 'M', 'N', 'O', 'P', 'Q', 'R', 'S', 'T', 'U', 'V', 'W', 'X', 'Y', 'Z', 'del', 'nothing', 'space']\n",
    "\n",
    "def capture_image():\n",
    "    # Capturar imagen desde la cámara\n",
    "    cap = cv2.VideoCapture(0)\n",
    "    if not cap.isOpened():\n",
    "        print(\"Error: No se puede abrir la cámara.\")\n",
    "        return None\n",
    "    \n",
    "    ret, frame = cap.read()\n",
    "    if not ret:\n",
    "        print(\"Error: No se puede leer la imagen de la cámara.\")\n",
    "        cap.release()\n",
    "        return None\n",
    "\n",
    "    # Guardar la imagen capturada temporalmente\n",
    "    image_path = 'captured_image.png'\n",
    "    cv2.imwrite(image_path, frame)\n",
    "\n",
    "    # Liberar la cámara\n",
    "    cap.release()\n",
    "    cv2.destroyAllWindows()\n",
    "    return image_path\n",
    "\n",
    "def preprocess_image(image_path, target_size=(28, 28)):\n",
    "    # Cargar y procesar la imagen\n",
    "    img = Image.open(image_path).convert('RGB')\n",
    "    img = transform(img)\n",
    "    img = img.unsqueeze(0)  # Añadir dimensión para el lote\n",
    "    return img\n",
    "\n",
    "def predict_image_from_camera():\n",
    "    # Capturar la imagen\n",
    "    image_path = capture_image()\n",
    "    if image_path is None:\n",
    "        return\n",
    "\n",
    "    # Preprocesar la imagen capturada\n",
    "    img_tensor = preprocess_image(image_path, target_size=(28, 28))\n",
    "    \n",
    "    # Realizar predicción\n",
    "    with torch.no_grad():\n",
    "        outputs = model(img_tensor)\n",
    "        _, predicted_class = torch.max(outputs, 1)\n",
    "        predicted_label = class_names[predicted_class.item()]\n",
    "\n",
    "    # Mostrar la imagen preprocesada con la predicción\n",
    "    plt.imshow(img_tensor[0].permute(1, 2, 0).numpy() * 0.5 + 0.5)  # Des-normalizar la imagen\n",
    "    plt.title(f\"Predicted: {predicted_label}\")\n",
    "    plt.axis('off')\n",
    "    plt.show()\n",
    "\n",
    "# Llamar a la función para predecir la imagen de la cámara\n",
    "predict_image_from_camera()\n"
   ]
  }
 ],
 "metadata": {
  "kernelspec": {
   "display_name": "Python 3",
   "language": "python",
   "name": "python3"
  },
  "language_info": {
   "codemirror_mode": {
    "name": "ipython",
    "version": 3
   },
   "file_extension": ".py",
   "mimetype": "text/x-python",
   "name": "python",
   "nbconvert_exporter": "python",
   "pygments_lexer": "ipython3",
   "version": "3.9.13"
  }
 },
 "nbformat": 4,
 "nbformat_minor": 2
}
